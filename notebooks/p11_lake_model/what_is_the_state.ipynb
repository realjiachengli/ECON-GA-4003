{
 "cells": [
  {
   "cell_type": "code",
   "execution_count": 2,
   "id": "0dddc899",
   "metadata": {},
   "outputs": [],
   "source": [
    "import numpy as np\n",
    "\n",
    "from quantecon.markov import MarkovChain"
   ]
  },
  {
   "cell_type": "code",
   "execution_count": 3,
   "id": "f27427f9",
   "metadata": {},
   "outputs": [],
   "source": [
    "alpha = 0.25\n",
    "beta = 0.03"
   ]
  },
  {
   "cell_type": "code",
   "execution_count": 5,
   "id": "2ca366dc",
   "metadata": {},
   "outputs": [],
   "source": [
    "# Job finding with static probabilities\n",
    "P = np.array([[1-alpha, alpha], [beta, 1-beta]])"
   ]
  },
  {
   "cell_type": "code",
   "execution_count": 7,
   "id": "521d1351",
   "metadata": {},
   "outputs": [],
   "source": [
    "mc_simple = MarkovChain(P)"
   ]
  },
  {
   "cell_type": "code",
   "execution_count": 9,
   "id": "561fe7ca",
   "metadata": {},
   "outputs": [
    {
     "data": {
      "text/plain": [
       "array([[0.10714286, 0.89285714]])"
      ]
     },
     "execution_count": 9,
     "metadata": {},
     "output_type": "execute_result"
    }
   ],
   "source": [
    "mc_simple.stationary_distributions"
   ]
  },
  {
   "cell_type": "code",
   "execution_count": 10,
   "id": "a8ad5cf1",
   "metadata": {},
   "outputs": [],
   "source": [
    "alpha_high = 0.40\n",
    "alpha_low = 0.20\n",
    "\n",
    "beta_high = 0.01\n",
    "beta_low = 0.05"
   ]
  },
  {
   "cell_type": "code",
   "execution_count": 13,
   "id": "83af0ab7",
   "metadata": {},
   "outputs": [
    {
     "data": {
      "text/plain": [
       "array([[0.02439024, 0.97560976]])"
      ]
     },
     "execution_count": 13,
     "metadata": {},
     "output_type": "execute_result"
    }
   ],
   "source": [
    "P_high = np.array([[1-alpha_high, alpha_high], [beta_high, 1-beta_high]])\n",
    "\n",
    "mc_high = MarkovChain(P_high)\n",
    "mc_high.stationary_distributions"
   ]
  },
  {
   "cell_type": "code",
   "execution_count": 14,
   "id": "4938c380",
   "metadata": {},
   "outputs": [
    {
     "data": {
      "text/plain": [
       "array([[0.2, 0.8]])"
      ]
     },
     "execution_count": 14,
     "metadata": {},
     "output_type": "execute_result"
    }
   ],
   "source": [
    "P_low = np.array([[1-alpha_low, alpha_low], [beta_low, 1-beta_low]])\n",
    "\n",
    "mc_low = MarkovChain(P_low)\n",
    "mc_low.stationary_distributions"
   ]
  },
  {
   "cell_type": "code",
   "execution_count": 15,
   "id": "267f9aab",
   "metadata": {},
   "outputs": [
    {
     "data": {
      "text/plain": [
       "array([[0.5, 0.5]])"
      ]
     },
     "execution_count": 15,
     "metadata": {},
     "output_type": "execute_result"
    }
   ],
   "source": [
    "P_ab = np.array([[0.9, 0.1], [0.1, 0.9]])\n",
    "\n",
    "mc_ab = MarkovChain(P_ab)\n",
    "\n",
    "mc_ab.stationary_distributions"
   ]
  },
  {
   "cell_type": "code",
   "execution_count": 17,
   "id": "2fcc8b59",
   "metadata": {},
   "outputs": [],
   "source": [
    "# UL UH EL EH\n",
    "big_P = np.array([\n",
    "    [0.9*(1-alpha_low), 0.1*(1 - alpha_low), 0.9*alpha_low, 0.1*alpha_low],\n",
    "    [0.1*(1 - alpha_high), 0.9*(1 - alpha_high), 0.1*alpha_high, 0.9*alpha_high],\n",
    "    [0.9*beta_low, 0.1*beta_low, 0.9*(1 - beta_low), 0.1*(1 - beta_low)],\n",
    "    [0.1*beta_high, 0.9*beta_high, 0.1*(1 - beta_high), 0.9*(1 - beta_high)]\n",
    "])"
   ]
  },
  {
   "cell_type": "code",
   "execution_count": 18,
   "id": "3e1dfb15",
   "metadata": {},
   "outputs": [],
   "source": [
    "mc_big = MarkovChain(big_P)"
   ]
  },
  {
   "cell_type": "code",
   "execution_count": 19,
   "id": "c2edde4f",
   "metadata": {},
   "outputs": [
    {
     "data": {
      "text/plain": [
       "array([[0.07567568, 0.02702703, 0.42432432, 0.47297297]])"
      ]
     },
     "execution_count": 19,
     "metadata": {},
     "output_type": "execute_result"
    }
   ],
   "source": [
    "mc_big.stationary_distributions"
   ]
  },
  {
   "cell_type": "code",
   "execution_count": 34,
   "id": "3a2dad4f",
   "metadata": {},
   "outputs": [
    {
     "data": {
      "text/plain": [
       "array([0.07567568, 0.02702703, 0.42432432, 0.47297297])"
      ]
     },
     "execution_count": 34,
     "metadata": {},
     "output_type": "execute_result"
    }
   ],
   "source": [
    "ev = np.linalg.eig(big_P.T)[1][:, 1]\n",
    "\n",
    "ev / ev.sum()"
   ]
  },
  {
   "cell_type": "code",
   "execution_count": 29,
   "id": "308759cc",
   "metadata": {},
   "outputs": [
    {
     "data": {
      "text/plain": [
       "array([[0.07567568, 0.07567568, 0.07567568, 0.07567568],\n",
       "       [0.02702703, 0.02702703, 0.02702703, 0.02702703],\n",
       "       [0.42432432, 0.42432432, 0.42432432, 0.42432432],\n",
       "       [0.47297297, 0.47297297, 0.47297297, 0.47297297]])"
      ]
     },
     "execution_count": 29,
     "metadata": {},
     "output_type": "execute_result"
    }
   ],
   "source": [
    "np.linalg.matrix_power(big_P.T, 1000)"
   ]
  },
  {
   "cell_type": "code",
   "execution_count": 22,
   "id": "d3006d91",
   "metadata": {},
   "outputs": [
    {
     "data": {
      "text/plain": [
       "array([[0.72 , 0.08 , 0.18 , 0.02 ],\n",
       "       [0.06 , 0.54 , 0.04 , 0.36 ],\n",
       "       [0.045, 0.005, 0.855, 0.095],\n",
       "       [0.001, 0.009, 0.099, 0.891]])"
      ]
     },
     "execution_count": 22,
     "metadata": {},
     "output_type": "execute_result"
    }
   ],
   "source": [
    "big_P"
   ]
  },
  {
   "cell_type": "code",
   "execution_count": 24,
   "id": "1ccc542c",
   "metadata": {},
   "outputs": [
    {
     "data": {
      "text/plain": [
       "array([[0.72 , 0.18 , 0.08 , 0.02 ],\n",
       "       [0.045, 0.855, 0.005, 0.095],\n",
       "       [0.08 , 0.02 , 0.72 , 0.18 ],\n",
       "       [0.005, 0.095, 0.045, 0.855]])"
      ]
     },
     "execution_count": 24,
     "metadata": {},
     "output_type": "execute_result"
    }
   ],
   "source": [
    "np.kron(P_ab, P_low)"
   ]
  }
 ],
 "metadata": {
  "kernelspec": {
   "display_name": "Python 3",
   "language": "python",
   "name": "python3"
  },
  "language_info": {
   "codemirror_mode": {
    "name": "ipython",
    "version": 3
   },
   "file_extension": ".py",
   "mimetype": "text/x-python",
   "name": "python",
   "nbconvert_exporter": "python",
   "pygments_lexer": "ipython3",
   "version": "3.8.8"
  }
 },
 "nbformat": 4,
 "nbformat_minor": 5
}
