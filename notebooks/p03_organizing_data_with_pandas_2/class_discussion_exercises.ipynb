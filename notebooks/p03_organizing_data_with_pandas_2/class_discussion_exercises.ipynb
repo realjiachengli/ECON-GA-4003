{
 "cells": [
  {
   "cell_type": "code",
   "execution_count": 1,
   "id": "7e406d88",
   "metadata": {},
   "outputs": [],
   "source": [
    "import requests\n",
    "import zipfile\n",
    "\n",
    "import pandas as pd\n",
    "\n",
    "from io import BytesIO, StringIO\n",
    "\n",
    "%matplotlib inline"
   ]
  },
  {
   "cell_type": "markdown",
   "id": "d15e287b",
   "metadata": {},
   "source": [
    "## First things first... Download the data\n",
    "\n",
    "Data comes from https://www.citibikenyc.com/system-data"
   ]
  },
  {
   "cell_type": "code",
   "execution_count": 2,
   "id": "7169a912",
   "metadata": {},
   "outputs": [],
   "source": [
    "base_url = \"https://s3.amazonaws.com/tripdata/\"\n",
    "citibike_2019 = base_url + \"201903-citibike-tripdata.csv.zip\"\n",
    "citibike_2020 = base_url + \"202003-citibike-tripdata.csv.zip\""
   ]
  },
  {
   "cell_type": "code",
   "execution_count": 3,
   "id": "0c6c9ce3",
   "metadata": {
    "scrolled": true
   },
   "outputs": [],
   "source": [
    "def download_citibike_zipfile(url):\n",
    "    # Download data from web and store in zipfile\n",
    "    dwnld_content = requests.get(url)\n",
    "    citi_zip = zipfile.ZipFile(\n",
    "        BytesIO(dwnld_content.content)\n",
    "    )\n",
    "\n",
    "    # Find a filename and open it\n",
    "    fn = citi_zip.namelist()[0]\n",
    "    citi_data = citi_zip.open(fn)\n",
    "\n",
    "    # Read into a dataframe\n",
    "    df = pd.read_csv(citi_data)\n",
    "\n",
    "    return df\n"
   ]
  },
  {
   "cell_type": "code",
   "execution_count": 4,
   "id": "02ec130d",
   "metadata": {},
   "outputs": [],
   "source": [
    "df_2019 = download_citibike_zipfile(citibike_2019)"
   ]
  },
  {
   "cell_type": "code",
   "execution_count": 5,
   "id": "a09dccf8",
   "metadata": {},
   "outputs": [],
   "source": [
    "df_2020 = download_citibike_zipfile(citibike_2020)"
   ]
  },
  {
   "cell_type": "markdown",
   "id": "10634850",
   "metadata": {},
   "source": [
    "## What is in our data?"
   ]
  },
  {
   "cell_type": "code",
   "execution_count": 6,
   "id": "8c1b5315",
   "metadata": {},
   "outputs": [
    {
     "data": {
      "text/plain": [
       "(1327960, 15)"
      ]
     },
     "execution_count": 6,
     "metadata": {},
     "output_type": "execute_result"
    }
   ],
   "source": [
    "df_2019.shape"
   ]
  },
  {
   "cell_type": "code",
   "execution_count": 7,
   "id": "94d15f45",
   "metadata": {},
   "outputs": [
    {
     "data": {
      "text/plain": [
       "tripduration                 int64\n",
       "starttime                   object\n",
       "stoptime                    object\n",
       "start station id           float64\n",
       "start station name          object\n",
       "start station latitude     float64\n",
       "start station longitude    float64\n",
       "end station id             float64\n",
       "end station name            object\n",
       "end station latitude       float64\n",
       "end station longitude      float64\n",
       "bikeid                       int64\n",
       "usertype                    object\n",
       "birth year                   int64\n",
       "gender                       int64\n",
       "dtype: object"
      ]
     },
     "execution_count": 7,
     "metadata": {},
     "output_type": "execute_result"
    }
   ],
   "source": [
    "df_2019.dtypes"
   ]
  },
  {
   "cell_type": "code",
   "execution_count": 8,
   "id": "767e259d",
   "metadata": {},
   "outputs": [
    {
     "data": {
      "text/html": [
       "<div>\n",
       "<style scoped>\n",
       "    .dataframe tbody tr th:only-of-type {\n",
       "        vertical-align: middle;\n",
       "    }\n",
       "\n",
       "    .dataframe tbody tr th {\n",
       "        vertical-align: top;\n",
       "    }\n",
       "\n",
       "    .dataframe thead th {\n",
       "        text-align: right;\n",
       "    }\n",
       "</style>\n",
       "<table border=\"1\" class=\"dataframe\">\n",
       "  <thead>\n",
       "    <tr style=\"text-align: right;\">\n",
       "      <th></th>\n",
       "      <th>tripduration</th>\n",
       "      <th>starttime</th>\n",
       "      <th>stoptime</th>\n",
       "      <th>start station id</th>\n",
       "      <th>start station name</th>\n",
       "      <th>start station latitude</th>\n",
       "      <th>start station longitude</th>\n",
       "      <th>end station id</th>\n",
       "      <th>end station name</th>\n",
       "      <th>end station latitude</th>\n",
       "      <th>end station longitude</th>\n",
       "      <th>bikeid</th>\n",
       "      <th>usertype</th>\n",
       "      <th>birth year</th>\n",
       "      <th>gender</th>\n",
       "    </tr>\n",
       "  </thead>\n",
       "  <tbody>\n",
       "    <tr>\n",
       "      <th>0</th>\n",
       "      <td>1463</td>\n",
       "      <td>2019-03-01 00:00:16.0970</td>\n",
       "      <td>2019-03-01 00:24:39.3880</td>\n",
       "      <td>319.0</td>\n",
       "      <td>Fulton St &amp; Broadway</td>\n",
       "      <td>40.711066</td>\n",
       "      <td>-74.009447</td>\n",
       "      <td>347.0</td>\n",
       "      <td>Greenwich St &amp; W Houston St</td>\n",
       "      <td>40.728846</td>\n",
       "      <td>-74.008591</td>\n",
       "      <td>35618</td>\n",
       "      <td>Subscriber</td>\n",
       "      <td>1989</td>\n",
       "      <td>1</td>\n",
       "    </tr>\n",
       "    <tr>\n",
       "      <th>1</th>\n",
       "      <td>285</td>\n",
       "      <td>2019-03-01 00:00:32.3850</td>\n",
       "      <td>2019-03-01 00:05:18.1830</td>\n",
       "      <td>439.0</td>\n",
       "      <td>E 4 St &amp; 2 Ave</td>\n",
       "      <td>40.726281</td>\n",
       "      <td>-73.989780</td>\n",
       "      <td>150.0</td>\n",
       "      <td>E 2 St &amp; Avenue C</td>\n",
       "      <td>40.720874</td>\n",
       "      <td>-73.980858</td>\n",
       "      <td>31113</td>\n",
       "      <td>Subscriber</td>\n",
       "      <td>1980</td>\n",
       "      <td>1</td>\n",
       "    </tr>\n",
       "    <tr>\n",
       "      <th>2</th>\n",
       "      <td>686</td>\n",
       "      <td>2019-03-01 00:00:47.7970</td>\n",
       "      <td>2019-03-01 00:12:14.3090</td>\n",
       "      <td>526.0</td>\n",
       "      <td>E 33 St &amp; 5 Ave</td>\n",
       "      <td>40.747659</td>\n",
       "      <td>-73.984907</td>\n",
       "      <td>3474.0</td>\n",
       "      <td>6 Ave &amp; Spring St</td>\n",
       "      <td>40.725256</td>\n",
       "      <td>-74.004121</td>\n",
       "      <td>19617</td>\n",
       "      <td>Subscriber</td>\n",
       "      <td>1987</td>\n",
       "      <td>1</td>\n",
       "    </tr>\n",
       "    <tr>\n",
       "      <th>3</th>\n",
       "      <td>442</td>\n",
       "      <td>2019-03-01 00:01:01.2090</td>\n",
       "      <td>2019-03-01 00:08:23.7510</td>\n",
       "      <td>3474.0</td>\n",
       "      <td>6 Ave &amp; Spring St</td>\n",
       "      <td>40.725256</td>\n",
       "      <td>-74.004121</td>\n",
       "      <td>355.0</td>\n",
       "      <td>Bayard St &amp; Baxter St</td>\n",
       "      <td>40.716021</td>\n",
       "      <td>-73.999744</td>\n",
       "      <td>27086</td>\n",
       "      <td>Subscriber</td>\n",
       "      <td>1987</td>\n",
       "      <td>2</td>\n",
       "    </tr>\n",
       "    <tr>\n",
       "      <th>4</th>\n",
       "      <td>2913</td>\n",
       "      <td>2019-03-01 00:01:09.2810</td>\n",
       "      <td>2019-03-01 00:49:42.3810</td>\n",
       "      <td>379.0</td>\n",
       "      <td>W 31 St &amp; 7 Ave</td>\n",
       "      <td>40.749156</td>\n",
       "      <td>-73.991600</td>\n",
       "      <td>212.0</td>\n",
       "      <td>W 16 St &amp; The High Line</td>\n",
       "      <td>40.743349</td>\n",
       "      <td>-74.006818</td>\n",
       "      <td>34791</td>\n",
       "      <td>Subscriber</td>\n",
       "      <td>1991</td>\n",
       "      <td>1</td>\n",
       "    </tr>\n",
       "  </tbody>\n",
       "</table>\n",
       "</div>"
      ],
      "text/plain": [
       "   tripduration                 starttime                  stoptime  \\\n",
       "0          1463  2019-03-01 00:00:16.0970  2019-03-01 00:24:39.3880   \n",
       "1           285  2019-03-01 00:00:32.3850  2019-03-01 00:05:18.1830   \n",
       "2           686  2019-03-01 00:00:47.7970  2019-03-01 00:12:14.3090   \n",
       "3           442  2019-03-01 00:01:01.2090  2019-03-01 00:08:23.7510   \n",
       "4          2913  2019-03-01 00:01:09.2810  2019-03-01 00:49:42.3810   \n",
       "\n",
       "   start station id    start station name  start station latitude  \\\n",
       "0             319.0  Fulton St & Broadway               40.711066   \n",
       "1             439.0        E 4 St & 2 Ave               40.726281   \n",
       "2             526.0       E 33 St & 5 Ave               40.747659   \n",
       "3            3474.0     6 Ave & Spring St               40.725256   \n",
       "4             379.0       W 31 St & 7 Ave               40.749156   \n",
       "\n",
       "   start station longitude  end station id             end station name  \\\n",
       "0               -74.009447           347.0  Greenwich St & W Houston St   \n",
       "1               -73.989780           150.0            E 2 St & Avenue C   \n",
       "2               -73.984907          3474.0            6 Ave & Spring St   \n",
       "3               -74.004121           355.0        Bayard St & Baxter St   \n",
       "4               -73.991600           212.0      W 16 St & The High Line   \n",
       "\n",
       "   end station latitude  end station longitude  bikeid    usertype  \\\n",
       "0             40.728846             -74.008591   35618  Subscriber   \n",
       "1             40.720874             -73.980858   31113  Subscriber   \n",
       "2             40.725256             -74.004121   19617  Subscriber   \n",
       "3             40.716021             -73.999744   27086  Subscriber   \n",
       "4             40.743349             -74.006818   34791  Subscriber   \n",
       "\n",
       "   birth year  gender  \n",
       "0        1989       1  \n",
       "1        1980       1  \n",
       "2        1987       1  \n",
       "3        1987       2  \n",
       "4        1991       1  "
      ]
     },
     "execution_count": 8,
     "metadata": {},
     "output_type": "execute_result"
    }
   ],
   "source": [
    "df_2019.head()"
   ]
  },
  {
   "cell_type": "code",
   "execution_count": 9,
   "id": "29d92e03",
   "metadata": {},
   "outputs": [],
   "source": [
    "df_2019[\"start_dt\"] = pd.to_datetime(df_2019[\"starttime\"])\n",
    "df_2019[\"end_dt\"] = pd.to_datetime(df_2019[\"stoptime\"])\n",
    "\n",
    "df_2020[\"start_dt\"] = pd.to_datetime(df_2020[\"starttime\"])\n",
    "df_2020[\"end_dt\"] = pd.to_datetime(df_2020[\"stoptime\"])"
   ]
  },
  {
   "cell_type": "code",
   "execution_count": 10,
   "id": "a401092d",
   "metadata": {},
   "outputs": [
    {
     "data": {
      "text/plain": [
       "tripduration                        int64\n",
       "starttime                          object\n",
       "stoptime                           object\n",
       "start station id                  float64\n",
       "start station name                 object\n",
       "start station latitude            float64\n",
       "start station longitude           float64\n",
       "end station id                    float64\n",
       "end station name                   object\n",
       "end station latitude              float64\n",
       "end station longitude             float64\n",
       "bikeid                              int64\n",
       "usertype                           object\n",
       "birth year                          int64\n",
       "gender                              int64\n",
       "start_dt                   datetime64[ns]\n",
       "end_dt                     datetime64[ns]\n",
       "dtype: object"
      ]
     },
     "execution_count": 10,
     "metadata": {},
     "output_type": "execute_result"
    }
   ],
   "source": [
    "4 columns and 4 rowsdf_2019.dtypes"
   ]
  },
  {
   "cell_type": "code",
   "execution_count": null,
   "id": "dc8d281e",
   "metadata": {},
   "outputs": [],
   "source": []
  },
  {
   "cell_type": "markdown",
   "id": "3863b7ff",
   "metadata": {},
   "source": [
    "## Questions to ask the data?\n",
    "\n",
    "The point of data is to learn something... What types of questions can we ask the data?\n",
    "\n",
    "In each example, begin with the raw DataFrames `df_2019` and `df_2020`."
   ]
  },
  {
   "cell_type": "markdown",
   "id": "b82388f8",
   "metadata": {},
   "source": [
    "**More bike rides in March 2019 or March 2020?** (Warmup)\n"
   ]
  },
  {
   "cell_type": "code",
   "execution_count": 11,
   "id": "4f451f1c",
   "metadata": {},
   "outputs": [
    {
     "data": {
      "text/plain": [
       "(1327960, 17)"
      ]
     },
     "execution_count": 11,
     "metadata": {},
     "output_type": "execute_result"
    }
   ],
   "source": [
    "# each row is a ride and we only have march data, just look at row counts\n",
    "df_2019.shape"
   ]
  },
  {
   "cell_type": "code",
   "execution_count": 12,
   "id": "cad6660a-15e1-448b-87f0-f4c10d4c96d6",
   "metadata": {},
   "outputs": [
    {
     "data": {
      "text/plain": [
       "(1068457, 17)"
      ]
     },
     "execution_count": 12,
     "metadata": {},
     "output_type": "execute_result"
    }
   ],
   "source": [
    "df_2020.shape"
   ]
  },
  {
   "cell_type": "code",
   "execution_count": null,
   "id": "5d1b0367-d386-4fdb-9632-f71a946be517",
   "metadata": {},
   "outputs": [],
   "source": [
    "# more rides in March 2019"
   ]
  },
  {
   "cell_type": "markdown",
   "id": "8aa4d238",
   "metadata": {},
   "source": [
    "**Which bike saw the most use in 2019?**"
   ]
  },
  {
   "cell_type": "code",
   "execution_count": 58,
   "id": "d01649ce-0aa6-41a4-ac31-07e36855734b",
   "metadata": {},
   "outputs": [],
   "source": [
    "def tripduration_summary_by_col(df, col):\n",
    "    funcs = [\"mean\", \"count\", \"sum\"]\n",
    "    bike_summaries = df.pivot_table(index=col, values=\"tripduration\", aggfunc=funcs)\n",
    "    bike_summaries.columns = funcs\n",
    "    return bike_summaries"
   ]
  },
  {
   "cell_type": "code",
   "execution_count": 59,
   "id": "b0a6f172-3363-4146-81e1-753333b2d475",
   "metadata": {},
   "outputs": [],
   "source": [
    "def bike_summary(df):\n",
    "    return tripduration_summary_by_col(df, \"bikeid\")"
   ]
  },
  {
   "cell_type": "code",
   "execution_count": 60,
   "id": "6682fb63",
   "metadata": {},
   "outputs": [
    {
     "data": {
      "text/plain": [
       "bikeid\n",
       "35641    545\n",
       "36624    503\n",
       "36696    497\n",
       "Name: count, dtype: int64"
      ]
     },
     "execution_count": 60,
     "metadata": {},
     "output_type": "execute_result"
    }
   ],
   "source": [
    "bike_summary(df_2019)[\"count\"].nlargest(3)"
   ]
  },
  {
   "cell_type": "code",
   "execution_count": 61,
   "id": "d0277a6e-f528-4bb2-b98b-0cd97722a079",
   "metadata": {},
   "outputs": [],
   "source": [
    "# bike 34641, by a good margin"
   ]
  },
  {
   "cell_type": "markdown",
   "id": "cd0dee14",
   "metadata": {},
   "source": [
    "**Which bike saw the most use in 2020?**\n"
   ]
  },
  {
   "cell_type": "code",
   "execution_count": 62,
   "id": "baf473a2",
   "metadata": {},
   "outputs": [
    {
     "data": {
      "text/plain": [
       "bikeid\n",
       "37042    384\n",
       "37088    369\n",
       "37078    368\n",
       "Name: count, dtype: int64"
      ]
     },
     "execution_count": 62,
     "metadata": {},
     "output_type": "execute_result"
    }
   ],
   "source": [
    "bike_summary(df_2020)[\"count\"].nlargest(3)"
   ]
  },
  {
   "cell_type": "code",
   "execution_count": 63,
   "id": "47fdb1ab-1c6f-4407-b8ad-4059f8af4abc",
   "metadata": {},
   "outputs": [],
   "source": [
    "# bike 37042"
   ]
  },
  {
   "cell_type": "markdown",
   "id": "821be4cd",
   "metadata": {},
   "source": [
    "**Which stations saw the biggest change in rides?**\n",
    "\n",
    "* Which stations saw the biggest decrease?\n",
    "* Which stations saw the biggest increase?"
   ]
  },
  {
   "cell_type": "code",
   "execution_count": 64,
   "id": "ae36c7d5",
   "metadata": {},
   "outputs": [],
   "source": [
    "def station_summary(df):\n",
    "    return tripduration_summary_by_col(df, \"start station name\")"
   ]
  },
  {
   "cell_type": "code",
   "execution_count": 65,
   "id": "78013aab-bf7d-4cb2-b339-bf28d5e8024e",
   "metadata": {},
   "outputs": [],
   "source": [
    "start_station_diffs = (station_summary(df_2020) - station_summary(df_2019)).dropna()"
   ]
  },
  {
   "cell_type": "code",
   "execution_count": 66,
   "id": "7488b7e8-9dc2-4e46-b05f-f4867e5c9c5e",
   "metadata": {},
   "outputs": [
    {
     "data": {
      "text/html": [
       "<div>\n",
       "<style scoped>\n",
       "    .dataframe tbody tr th:only-of-type {\n",
       "        vertical-align: middle;\n",
       "    }\n",
       "\n",
       "    .dataframe tbody tr th {\n",
       "        vertical-align: top;\n",
       "    }\n",
       "\n",
       "    .dataframe thead th {\n",
       "        text-align: right;\n",
       "    }\n",
       "</style>\n",
       "<table border=\"1\" class=\"dataframe\">\n",
       "  <thead>\n",
       "    <tr style=\"text-align: right;\">\n",
       "      <th></th>\n",
       "      <th>mean</th>\n",
       "      <th>count</th>\n",
       "      <th>sum</th>\n",
       "    </tr>\n",
       "    <tr>\n",
       "      <th>start station name</th>\n",
       "      <th></th>\n",
       "      <th></th>\n",
       "      <th></th>\n",
       "    </tr>\n",
       "  </thead>\n",
       "  <tbody>\n",
       "    <tr>\n",
       "      <th>Pershing Square North</th>\n",
       "      <td>629.118450</td>\n",
       "      <td>-4210.0</td>\n",
       "      <td>1104598.0</td>\n",
       "    </tr>\n",
       "    <tr>\n",
       "      <th>8 Ave &amp; W 31 St</th>\n",
       "      <td>68.343217</td>\n",
       "      <td>-3279.0</td>\n",
       "      <td>-2085035.0</td>\n",
       "    </tr>\n",
       "    <tr>\n",
       "      <th>Broadway &amp; E 22 St</th>\n",
       "      <td>59.102021</td>\n",
       "      <td>-2811.0</td>\n",
       "      <td>-1827734.0</td>\n",
       "    </tr>\n",
       "    <tr>\n",
       "      <th>12 Ave &amp; W 40 St</th>\n",
       "      <td>299.158840</td>\n",
       "      <td>754.0</td>\n",
       "      <td>2404501.0</td>\n",
       "    </tr>\n",
       "    <tr>\n",
       "      <th>FDR Drive &amp; E 35 St</th>\n",
       "      <td>290.859944</td>\n",
       "      <td>884.0</td>\n",
       "      <td>1856287.0</td>\n",
       "    </tr>\n",
       "    <tr>\n",
       "      <th>E 12 St &amp; 3 Ave</th>\n",
       "      <td>212.516400</td>\n",
       "      <td>1017.0</td>\n",
       "      <td>1221346.0</td>\n",
       "    </tr>\n",
       "  </tbody>\n",
       "</table>\n",
       "</div>"
      ],
      "text/plain": [
       "                             mean   count        sum\n",
       "start station name                                  \n",
       "Pershing Square North  629.118450 -4210.0  1104598.0\n",
       "8 Ave & W 31 St         68.343217 -3279.0 -2085035.0\n",
       "Broadway & E 22 St      59.102021 -2811.0 -1827734.0\n",
       "12 Ave & W 40 St       299.158840   754.0  2404501.0\n",
       "FDR Drive & E 35 St    290.859944   884.0  1856287.0\n",
       "E 12 St & 3 Ave        212.516400  1017.0  1221346.0"
      ]
     },
     "execution_count": 66,
     "metadata": {},
     "output_type": "execute_result"
    }
   ],
   "source": [
    "start_station_diffs.sort_values(\"count\").iloc[[0,1,2,-3,-2,-1], :]"
   ]
  },
  {
   "cell_type": "code",
   "execution_count": null,
   "id": "257b33d8-f75b-4f68-a83f-7293662f70ae",
   "metadata": {},
   "outputs": [],
   "source": [
    "# Pershing Square North originated 4210 LESS rides\n",
    "# E 12 & 3 ave originated 1017 MORE rides"
   ]
  },
  {
   "cell_type": "markdown",
   "id": "6b75a8e5",
   "metadata": {},
   "source": [
    "**Which station saw the longest average distance rides (include data from both years)?**"
   ]
  },
  {
   "cell_type": "code",
   "execution_count": 122,
   "id": "aa03bcd8-6bc9-42dd-aa8f-7e4df8e5464b",
   "metadata": {},
   "outputs": [],
   "source": [
    "import numpy as np\n",
    "\n",
    "all_data = pd.concat([df_2019, df_2020]).reset_index()"
   ]
  },
  {
   "cell_type": "code",
   "execution_count": 95,
   "id": "9b84e62a",
   "metadata": {},
   "outputs": [],
   "source": [
    "# Install geopy for distance calculation\n",
    "# !pip install geopy\n",
    "# from geopy import distance\n",
    "# distance.distance((lat, lon), (lat, lon)).km\n",
    "\n",
    "# NOTE from Spencer: I found that this took a very long time\n",
    "# while the code was running I googled for how to approximate this\n",
    "# distance, wrote the python function below, and did the calculation\n",
    "# before geopy finished...\n",
    "# after it finished the answers were the same up to 2 decimal points --\n",
    "# good enough for what we are doing"
   ]
  },
  {
   "cell_type": "code",
   "execution_count": 123,
   "id": "9dc95bf6-723c-4261-ba27-f711eaa667b3",
   "metadata": {},
   "outputs": [],
   "source": [
    "def compute_distance_in_km(lat1, lon1, lat2, lon2):\n",
    "    \"\"\"\n",
    "    This function computes approximate distance between two\n",
    "    (lat, lon) points. It assumes the earth is a perfect sphere,\n",
    "    so it should only be used for distance calculations between\n",
    "    two points fairly close to one another\n",
    "    \"\"\"\n",
    "    # approximate radius of earth in km\n",
    "    R = 6373.0\n",
    "\n",
    "    lat1 = np.radians(lat1)\n",
    "    lon1 = np.radians(lon1)\n",
    "    lat2 = np.radians(lat2)\n",
    "    lon2 = np.radians(lon2)\n",
    "\n",
    "    dlon = lon2 - lon1\n",
    "    dlat = lat2 - lat1\n",
    "\n",
    "    a = np.sin(dlat / 2)**2 + np.cos(lat1) * np.cos(lat2) * np.sin(dlon / 2)**2\n",
    "    c = 2 * np.arctan2(np.sqrt(a), np.sqrt(1 - a))\n",
    "\n",
    "    distance = R * c\n",
    "    return distance"
   ]
  },
  {
   "cell_type": "code",
   "execution_count": 124,
   "id": "90a4bd72-26a1-479c-a825-0a52006549e5",
   "metadata": {},
   "outputs": [],
   "source": [
    "lat1 = all_data[\"start station latitude\"]\n",
    "lon1 = all_data[\"start station longitude\"]\n",
    "lat2 = all_data[\"end station latitude\"]\n",
    "lon2 = all_data[\"end station longitude\"]\n",
    "all_data[\"distance_traveled\"] = compute_distance_in_km(lat1, lon1, lat2, lon2)"
   ]
  },
  {
   "cell_type": "code",
   "execution_count": 125,
   "id": "c4a3e198-61ea-4041-9f9e-2d14023f619d",
   "metadata": {},
   "outputs": [
    {
     "data": {
      "text/plain": [
       "start station name\n",
       "MTL-AOS-5.1                                      0.000000\n",
       "Bayard St & Leonard St                           1.215724\n",
       "Columbia St & W 9 St                             1.216646\n",
       "Henry St & Degraw St                             1.250702\n",
       "3 St & Prospect Park West                        1.260312\n",
       "                                                   ...   \n",
       "Riverside Dr & W 104 St                          3.636671\n",
       "39 St & 2 Ave - Citi Bike HQ at Industry City    3.736155\n",
       "NYCBS Depot - GOW                                3.993949\n",
       "12 Ave & W 125 St                                4.414386\n",
       "58th St Depot                                    6.976548\n",
       "Name: (mean, distance_traveled), Length: 929, dtype: float64"
      ]
     },
     "execution_count": 125,
     "metadata": {},
     "output_type": "execute_result"
    }
   ],
   "source": [
    "(\n",
    "    all_data\n",
    "    .pivot_table(index=\"start station name\", values=\"distance_traveled\", aggfunc=[\"mean\", \"sum\", \"count\"])\n",
    "    .loc[:, (\"mean\", \"distance_traveled\")]\n",
    "    .sort_values()\n",
    ")"
   ]
  },
  {
   "cell_type": "code",
   "execution_count": 126,
   "id": "8e04dc89-db09-4ffb-a0bf-f90f452abed7",
   "metadata": {},
   "outputs": [],
   "source": [
    "# the 58th St Depot had the longest average ride at almost 7 km"
   ]
  },
  {
   "cell_type": "markdown",
   "id": "d9778cbc",
   "metadata": {},
   "source": [
    "**Which two stations saw the highest speed ridden between them?**\n",
    "\n",
    "Compute this assuming the distance is \"as the crow flies\"."
   ]
  },
  {
   "cell_type": "code",
   "execution_count": 127,
   "id": "fed8dea4",
   "metadata": {},
   "outputs": [],
   "source": [
    "all_data[\"trip_duration_hours\"] = (all_data[\"end_dt\"] - all_data[\"start_dt\"]) / np.timedelta64(1, \"h\")\n",
    "all_data[\"trip_speed_km_h\"] = all_data.eval(\"distance_traveled / trip_duration_hours\")"
   ]
  },
  {
   "cell_type": "code",
   "execution_count": 128,
   "id": "369f7863-2e07-4b18-a298-7abc7433807e",
   "metadata": {},
   "outputs": [
    {
     "data": {
      "text/plain": [
       "index                                          110867\n",
       "tripduration                                       62\n",
       "starttime                    2020-03-03 11:17:32.6150\n",
       "stoptime                     2020-03-03 11:18:35.4820\n",
       "start station id                                477.0\n",
       "start station name                    W 41 St & 8 Ave\n",
       "start station latitude                      40.756405\n",
       "start station longitude                    -73.990026\n",
       "end station id                                 3798.0\n",
       "end station name                      W 40 St & 5 Ave\n",
       "end station latitude                        40.752269\n",
       "end station longitude                      -73.982079\n",
       "bikeid                                          38915\n",
       "usertype                                   Subscriber\n",
       "birth year                                       1988\n",
       "gender                                              1\n",
       "start_dt                   2020-03-03 11:17:32.615000\n",
       "end_dt                     2020-03-03 11:18:35.482000\n",
       "distance_traveled                            0.812453\n",
       "trip_duration_hours                          0.017463\n",
       "trip_speed_km_h                             46.524107\n",
       "Name: 1438827, dtype: object"
      ]
     },
     "execution_count": 128,
     "metadata": {},
     "output_type": "execute_result"
    }
   ],
   "source": [
    "all_data.loc[all_data[\"trip_speed_km_h\"].idxmax(), :]"
   ]
  },
  {
   "cell_type": "code",
   "execution_count": null,
   "id": "a2d0dd01-b8af-4db0-9bf5-56d8c40a7d1d",
   "metadata": {},
   "outputs": [],
   "source": [
    "# looks like the fastest trip was between W 41st+8Ave and W 40+5 AVE\n",
    "# it was a *very* quick trip only lasting 1 minute 3 seconds\n",
    "# The rider traveled 0.81 km in that time!!!"
   ]
  },
  {
   "cell_type": "markdown",
   "id": "e6135f2c",
   "metadata": {},
   "source": [
    "**What else can we try to do?**"
   ]
  },
  {
   "cell_type": "code",
   "execution_count": null,
   "id": "fd780bfa",
   "metadata": {},
   "outputs": [],
   "source": []
  }
 ],
 "metadata": {
  "kernelspec": {
   "display_name": "css",
   "language": "python",
   "name": "css"
  },
  "language_info": {
   "codemirror_mode": {
    "name": "ipython",
    "version": 3
   },
   "file_extension": ".py",
   "mimetype": "text/x-python",
   "name": "python",
   "nbconvert_exporter": "python",
   "pygments_lexer": "ipython3",
   "version": "3.9.2"
  }
 },
 "nbformat": 4,
 "nbformat_minor": 5
}
