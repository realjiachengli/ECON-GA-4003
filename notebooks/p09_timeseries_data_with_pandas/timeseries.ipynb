{
 "cells": [
  {
   "cell_type": "markdown",
   "metadata": {
    "slideshow": {
     "slide_type": "slide"
    }
   },
   "source": [
    "# Time series\n",
    "\n",
    "**Prerequisites**\n",
    "\n",
    "- Python functions\n",
    "- GroupBy\n",
    "\n",
    "\n",
    "**Outcomes**\n",
    "\n",
    "- Know how pandas handles dates  \n",
    "- Understand how to parse strings into `datetime` objects  \n",
    "- Know how to write dates as custom formatted strings  \n",
    "- Be able to access day, month, year, etc. for a `DateTimeIndex` and\n",
    "  a column with `dtype` `datetime`  \n",
    "- Understand both rolling and re-sampling operations and the difference\n",
    "  between the two  \n",
    "\n",
    "\n",
    "**Data**\n",
    "\n",
    "- Bitcoin to USD exchange rates from March 2014 to the present  "
   ]
  },
  {
   "cell_type": "markdown",
   "metadata": {
    "slideshow": {
     "slide_type": "subslide"
    }
   },
   "source": [
    "## Outline\n",
    "\n",
    "- [Time series](#Time-series)  \n",
    "  - [Intro](#Intro)  \n",
    "  - [Parsing Strings as Dates](#Parsing-Strings-as-Dates)  \n",
    "  - [Date Formatting](#Date-Formatting)  \n",
    "  - [Extracting Data](#Extracting-Data)  \n",
    "  - [Accessing Date Properties](#Accessing-Date-Properties)  \n",
    "  - [Leads and Lags: `df.shift`](#Leads-and-Lags:-`df.shift`)  \n",
    "  - [Rolling Computations: `.rolling`](#Rolling-Computations:-`.rolling`)  \n",
    "  - [Changing Frequencies: `.resample`](#Changing-Frequencies:-`.resample`)  \n",
    "  - [Optional: API keys](#Optional:-API-keys)  \n",
    "  - [Exercises](#Exercises)  "
   ]
  },
  {
   "cell_type": "code",
   "execution_count": null,
   "metadata": {
    "hide-output": false,
    "slideshow": {
     "slide_type": "subslide"
    }
   },
   "outputs": [],
   "source": [
    "# Uncomment following line to install on colab\n",
    "# %pip install quandl"
   ]
  },
  {
   "cell_type": "code",
   "execution_count": null,
   "metadata": {
    "execution": {
     "iopub.status.idle": "2020-11-03T15:03:50.165336Z",
     "shell.execute_reply": "2020-11-03T15:03:50.164644Z",
     "shell.execute_reply.started": "2020-11-03T15:03:49.755777Z"
    },
    "hide-output": false
   },
   "outputs": [],
   "source": [
    "import os\n",
    "import pandas as pd\n",
    "import matplotlib.pyplot as plt\n",
    "import quandl\n",
    "\n",
    "# see section on API keys at end of lecture!\n",
    "quandl.ApiConfig.api_key = os.environ.get(\"QUANDL_AUTH\", \"Dn6BtVoBhzuKTuyo6hbp\")\n",
    "start_date = \"2014-05-01\"\n",
    "\n",
    "%matplotlib inline\n",
    "# activate plot theme\n",
    "plt.style.use(\"ggplot\")"
   ]
  },
  {
   "cell_type": "markdown",
   "metadata": {
    "slideshow": {
     "slide_type": "slide"
    }
   },
   "source": [
    "## Intro\n",
    "\n",
    "pandas has extensive support for handling dates and times\n",
    "\n",
    "We will loosely refer to data with date or time information as time\n",
    "series data\n",
    "\n",
    "Today we'll explore pandas timeseries capabilities"
   ]
  },
  {
   "cell_type": "markdown",
   "metadata": {
    "slideshow": {
     "slide_type": "subslide"
    }
   },
   "source": [
    "Among these topics are:\n",
    "\n",
    "- Parsing strings as dates  \n",
    "- Writing `datetime` objects as (inverse operation of previous point)  \n",
    "- Extracting data from a DataFrame or Series with date information in\n",
    "  the index  \n",
    "- Shifting data through time (taking leads or lags)  \n",
    "- Re-sampling data to a different frequency and rolling operations  \n",
    "\n",
    "**NOTE:** here, even more than with previous topics, we will skip a lot of the\n",
    "functionality pandas offers, and we urge you to refer to the [official\n",
    "documentation](https://pandas.pydata.org/pandas-docs/stable/timeseries.html)\n",
    "for more information"
   ]
  },
  {
   "cell_type": "markdown",
   "metadata": {
    "slideshow": {
     "slide_type": "slide"
    }
   },
   "source": [
    "## Parsing Strings as Dates\n",
    "\n",
    "Dates often come to us as strings\n",
    "\n",
    "Hopefully, the date strings follow a structured format or pattern\n",
    "\n",
    "One common pattern is `YYYY-MM-DD`: 4 numbers for the year, 2 for the\n",
    "month, and 2 for the day with each section separated by a `-`\n",
    "\n",
    "For example, we write Christmas day 2017 in this format as"
   ]
  },
  {
   "cell_type": "code",
   "execution_count": null,
   "metadata": {
    "execution": {
     "iopub.execute_input": "2020-11-03T15:03:50.166529Z",
     "iopub.status.busy": "2020-11-03T15:03:50.166397Z",
     "iopub.status.idle": "2020-11-03T15:03:50.169284Z",
     "shell.execute_reply": "2020-11-03T15:03:50.168585Z",
     "shell.execute_reply.started": "2020-11-03T15:03:50.166507Z"
    },
    "hide-output": false
   },
   "outputs": [],
   "source": [
    "christmas_str = \"2020-12-25\""
   ]
  },
  {
   "cell_type": "markdown",
   "metadata": {
    "slideshow": {
     "slide_type": "subslide"
    }
   },
   "source": [
    "To convert a string into a time-aware object, we use the\n",
    "`pd.to_datetime` function."
   ]
  },
  {
   "cell_type": "code",
   "execution_count": null,
   "metadata": {
    "execution": {
     "iopub.execute_input": "2020-11-03T15:03:50.170326Z",
     "iopub.status.busy": "2020-11-03T15:03:50.170214Z",
     "iopub.status.idle": "2020-11-03T15:03:50.178824Z",
     "shell.execute_reply": "2020-11-03T15:03:50.178350Z",
     "shell.execute_reply.started": "2020-11-03T15:03:50.170306Z"
    },
    "hide-output": false
   },
   "outputs": [],
   "source": [
    "christmas = pd.to_datetime(christmas_str)\n",
    "print(\"The type of christmas is\", type(christmas))\n",
    "christmas"
   ]
  },
  {
   "cell_type": "markdown",
   "metadata": {
    "slideshow": {
     "slide_type": "subslide"
    }
   },
   "source": [
    "The `pd.to_datetime` function is pretty smart at guessing the format\n",
    "of the date…"
   ]
  },
  {
   "cell_type": "code",
   "execution_count": null,
   "metadata": {
    "execution": {
     "iopub.execute_input": "2020-11-03T15:03:50.179551Z",
     "iopub.status.busy": "2020-11-03T15:03:50.179433Z",
     "iopub.status.idle": "2020-11-03T15:03:50.188770Z",
     "shell.execute_reply": "2020-11-03T15:03:50.188275Z",
     "shell.execute_reply.started": "2020-11-03T15:03:50.179531Z"
    },
    "hide-output": false
   },
   "outputs": [],
   "source": [
    "for date in [\"December 25, 2020\", \"Dec. 25, 2020\",\n",
    "             \"Monday, Dec. 25, 2020\", \"25 Dec. 2020\", \"25th Dec. 2020\"]:\n",
    "    print(\"pandas interprets {} as {}\".format(date, pd.to_datetime(date)))"
   ]
  },
  {
   "cell_type": "markdown",
   "metadata": {
    "slideshow": {
     "slide_type": "subslide"
    }
   },
   "source": [
    "However, sometimes we will need to give pandas a hint\n",
    "\n",
    "For example, that same time (midnight on Christmas) would be reported on\n",
    "an Amazon transaction report as"
   ]
  },
  {
   "cell_type": "code",
   "execution_count": null,
   "metadata": {
    "execution": {
     "iopub.execute_input": "2020-11-03T15:03:50.189489Z",
     "iopub.status.busy": "2020-11-03T15:03:50.189362Z",
     "iopub.status.idle": "2020-11-03T15:03:50.194258Z",
     "shell.execute_reply": "2020-11-03T15:03:50.193489Z",
     "shell.execute_reply.started": "2020-11-03T15:03:50.189467Z"
    },
    "hide-output": false,
    "slideshow": {
     "slide_type": "-"
    }
   },
   "outputs": [],
   "source": [
    "christmas_amzn = \"2020-12-25T00:00:00+ 00 :00\""
   ]
  },
  {
   "cell_type": "markdown",
   "metadata": {},
   "source": [
    "If we try to pass this to `pd.to_datetime`, it will fail"
   ]
  },
  {
   "cell_type": "code",
   "execution_count": null,
   "metadata": {
    "execution": {
     "iopub.execute_input": "2020-11-03T15:03:50.194912Z",
     "iopub.status.busy": "2020-11-03T15:03:50.194797Z",
     "iopub.status.idle": "2020-11-03T15:03:50.261732Z",
     "shell.execute_reply": "2020-11-03T15:03:50.260199Z",
     "shell.execute_reply.started": "2020-11-03T15:03:50.194892Z"
    },
    "hide-output": false
   },
   "outputs": [],
   "source": [
    "pd.to_datetime(christmas_amzn)"
   ]
  },
  {
   "cell_type": "markdown",
   "metadata": {
    "slideshow": {
     "slide_type": "subslide"
    }
   },
   "source": [
    "To parse a date with this format, we need to specify the `format`\n",
    "argument for `pd.to_datetime`"
   ]
  },
  {
   "cell_type": "code",
   "execution_count": null,
   "metadata": {
    "execution": {
     "iopub.execute_input": "2020-11-03T15:04:01.438918Z",
     "iopub.status.busy": "2020-11-03T15:04:01.438595Z",
     "iopub.status.idle": "2020-11-03T15:04:01.445655Z",
     "shell.execute_reply": "2020-11-03T15:04:01.444984Z",
     "shell.execute_reply.started": "2020-11-03T15:04:01.438874Z"
    },
    "hide-output": false
   },
   "outputs": [],
   "source": [
    "amzn_strftime = \"%Y-%m-%dT%H:%M:%S+ 00 :00\"\n",
    "pd.to_datetime(christmas_amzn, format=amzn_strftime)"
   ]
  },
  {
   "cell_type": "markdown",
   "metadata": {},
   "source": [
    "Can you guess what `amzn_strftime` represents?"
   ]
  },
  {
   "cell_type": "markdown",
   "metadata": {
    "slideshow": {
     "slide_type": "subslide"
    }
   },
   "source": [
    "Let’s take a closer look at `amzn_strftime` and `christmas_amzn`"
   ]
  },
  {
   "cell_type": "code",
   "execution_count": null,
   "metadata": {
    "execution": {
     "iopub.execute_input": "2020-11-03T15:04:02.402508Z",
     "iopub.status.busy": "2020-11-03T15:04:02.402187Z",
     "iopub.status.idle": "2020-11-03T15:04:02.406241Z",
     "shell.execute_reply": "2020-11-03T15:04:02.405635Z",
     "shell.execute_reply.started": "2020-11-03T15:04:02.402446Z"
    },
    "hide-output": false
   },
   "outputs": [],
   "source": [
    "print(amzn_strftime)\n",
    "print(christmas_amzn)"
   ]
  },
  {
   "cell_type": "markdown",
   "metadata": {
    "slideshow": {
     "slide_type": "-"
    }
   },
   "source": [
    "Notice that both of the strings have a similar form, but that instead of actual numerical values, `amzn_strftime` has *placeholders*\n",
    "\n",
    "Specifically, anywhere the `%` shows up is a signal to the `pd.to_datetime`\n",
    "function that it is where relevant information is stored\n",
    "\n",
    "For example, the `%Y` is a stand-in for a four digit year, `%m` is\n",
    "for 2 a digit month, and so on…"
   ]
  },
  {
   "cell_type": "markdown",
   "metadata": {
    "slideshow": {
     "slide_type": "subslide"
    }
   },
   "source": [
    "The official [Python\n",
    "documentation](https://docs.python.org/3/library/datetime.html#strftime-and-strptime-behavior) contains a complete list of possible `%`something patterns that are accepted\n",
    "in the `format` argument"
   ]
  },
  {
   "cell_type": "markdown",
   "metadata": {
    "slideshow": {
     "slide_type": "subslide"
    }
   },
   "source": [
    "<a id='exercise-0'></a>\n",
    "**Exercise 1**\n",
    "\n",
    "By referring to table found at the link above, figure out the correct argument to\n",
    "pass as `format` in order to parse the dates in the next three cells below.\n",
    "\n",
    "Test your work by passing your format string to `pd.to_datetime`."
   ]
  },
  {
   "cell_type": "code",
   "execution_count": null,
   "metadata": {
    "execution": {
     "iopub.execute_input": "2020-11-03T15:04:02.969574Z",
     "iopub.status.busy": "2020-11-03T15:04:02.969283Z",
     "iopub.status.idle": "2020-11-03T15:04:02.972905Z",
     "shell.execute_reply": "2020-11-03T15:04:02.972288Z",
     "shell.execute_reply.started": "2020-11-03T15:04:02.969532Z"
    },
    "hide-output": false
   },
   "outputs": [],
   "source": [
    "christmas_str2 = \"2020:12:25\""
   ]
  },
  {
   "cell_type": "code",
   "execution_count": null,
   "metadata": {
    "execution": {
     "iopub.execute_input": "2020-11-03T15:04:03.221062Z",
     "iopub.status.busy": "2020-11-03T15:04:03.220804Z",
     "iopub.status.idle": "2020-11-03T15:04:03.223985Z",
     "shell.execute_reply": "2020-11-03T15:04:03.223401Z",
     "shell.execute_reply.started": "2020-11-03T15:04:03.221021Z"
    },
    "hide-output": false
   },
   "outputs": [],
   "source": [
    "dbacks_win = \"M:11 D:4 Y:2001 9:15 PM\""
   ]
  },
  {
   "cell_type": "code",
   "execution_count": null,
   "metadata": {
    "execution": {
     "iopub.execute_input": "2020-11-03T15:04:03.487985Z",
     "iopub.status.busy": "2020-11-03T15:04:03.487672Z",
     "iopub.status.idle": "2020-11-03T15:04:03.491166Z",
     "shell.execute_reply": "2020-11-03T15:04:03.490559Z",
     "shell.execute_reply.started": "2020-11-03T15:04:03.487942Z"
    },
    "hide-output": false
   },
   "outputs": [],
   "source": [
    "america_bday = \"America was born on July 4, 1776\""
   ]
  },
  {
   "cell_type": "markdown",
   "metadata": {
    "slideshow": {
     "slide_type": "subslide"
    }
   },
   "source": [
    "### Multiple Dates\n",
    "\n",
    "`pd.to_datetime` can convert a collection (e.g. list, tuple, Series) of date strings to dates in one go\n"
   ]
  },
  {
   "cell_type": "code",
   "execution_count": null,
   "metadata": {
    "execution": {
     "iopub.execute_input": "2020-11-03T15:04:03.801679Z",
     "iopub.status.busy": "2020-11-03T15:04:03.801430Z",
     "iopub.status.idle": "2020-11-03T15:04:03.807852Z",
     "shell.execute_reply": "2020-11-03T15:04:03.807311Z",
     "shell.execute_reply.started": "2020-11-03T15:04:03.801643Z"
    },
    "hide-output": false
   },
   "outputs": [],
   "source": [
    "pd.to_datetime([\"2020-12-25\", \"2020-12-31\"])"
   ]
  },
  {
   "cell_type": "markdown",
   "metadata": {},
   "source": [
    "We'll just do the one example b/c everything for one date applies to a collection of dates "
   ]
  },
  {
   "cell_type": "markdown",
   "metadata": {
    "slideshow": {
     "slide_type": "slide"
    }
   },
   "source": [
    "## Date Formatting\n",
    "\n",
    "We can use the `%`pattern format to have pandas write `datetime`\n",
    "objects as specially formatted strings using the `strftime` (string\n",
    "format time) method\n",
    "\n",
    "For example,"
   ]
  },
  {
   "cell_type": "code",
   "execution_count": null,
   "metadata": {
    "execution": {
     "iopub.execute_input": "2020-11-03T15:04:04.334081Z",
     "iopub.status.busy": "2020-11-03T15:04:04.333768Z",
     "iopub.status.idle": "2020-11-03T15:04:04.338132Z",
     "shell.execute_reply": "2020-11-03T15:04:04.337608Z",
     "shell.execute_reply.started": "2020-11-03T15:04:04.334041Z"
    },
    "hide-output": false
   },
   "outputs": [],
   "source": [
    "christmas.strftime(\"We love %A %B %d (also written %c)\")"
   ]
  },
  {
   "cell_type": "markdown",
   "metadata": {
    "slideshow": {
     "slide_type": "subslide"
    }
   },
   "source": [
    "\n",
    "<a id='exercise-1'></a>\n",
    "**Exercise 2**\n",
    "\n",
    "Use `pd.to_datetime` to express the birthday of one of your friends\n",
    "or family members as a `datetime` object.\n",
    "\n",
    "Then use the `strftime` method to write a message of the format:"
   ]
  },
  {
   "cell_type": "markdown",
   "metadata": {
    "hide-output": false
   },
   "source": [
    "```python\n",
    "NAME's birthday is June 10, 1989 (a Saturday)\n",
    "```\n"
   ]
  },
  {
   "cell_type": "markdown",
   "metadata": {},
   "source": [
    "(where the name and date are replaced by the appropriate values)"
   ]
  },
  {
   "cell_type": "markdown",
   "metadata": {
    "slideshow": {
     "slide_type": "slide"
    }
   },
   "source": [
    "## Extracting Data\n",
    "\n",
    "Pandas is aware of when DataFrames or Series have dates on the index\n",
    "\n",
    "In these cases it uses a special `DateTimeIndex` for the index\n",
    "\n",
    "The special index comes with many convenient data access features\n",
    "\n",
    "We will explore these now"
   ]
  },
  {
   "cell_type": "markdown",
   "metadata": {
    "slideshow": {
     "slide_type": "subslide"
    }
   },
   "source": [
    "It's easiest to understand how they work by example, so we'll lload in some real world data:"
   ]
  },
  {
   "cell_type": "code",
   "execution_count": null,
   "metadata": {
    "execution": {
     "iopub.execute_input": "2020-11-03T15:04:05.631582Z",
     "iopub.status.busy": "2020-11-03T15:04:05.631264Z",
     "iopub.status.idle": "2020-11-03T15:04:06.434325Z",
     "shell.execute_reply": "2020-11-03T15:04:06.433489Z",
     "shell.execute_reply.started": "2020-11-03T15:04:05.631540Z"
    },
    "hide-output": false
   },
   "outputs": [],
   "source": [
    "btc_usd = quandl.get(\"BCHARTS/BITSTAMPUSD\", start_date=start_date)\n",
    "btc_usd.info()\n",
    "btc_usd.head()"
   ]
  },
  {
   "cell_type": "markdown",
   "metadata": {},
   "source": [
    "Here, we have the Bitcoin (BTC) to US dollar (USD) exchange rate from\n",
    "March 2014 until today.\n",
    "\n",
    "Notice that the type of index is `DateTimeIndex`.\n",
    "\n",
    "This is the key that enables things like…"
   ]
  },
  {
   "cell_type": "markdown",
   "metadata": {
    "slideshow": {
     "slide_type": "subslide"
    }
   },
   "source": [
    "Extracting all data for the year 2015 by passing `\"2015\"` to `.loc`."
   ]
  },
  {
   "cell_type": "code",
   "execution_count": null,
   "metadata": {
    "execution": {
     "iopub.execute_input": "2020-11-03T15:04:06.435232Z",
     "iopub.status.busy": "2020-11-03T15:04:06.435102Z",
     "iopub.status.idle": "2020-11-03T15:04:06.447076Z",
     "shell.execute_reply": "2020-11-03T15:04:06.446439Z",
     "shell.execute_reply.started": "2020-11-03T15:04:06.435209Z"
    },
    "hide-output": false
   },
   "outputs": [],
   "source": [
    "btc_usd.loc[\"2015\"]"
   ]
  },
  {
   "cell_type": "markdown",
   "metadata": {
    "slideshow": {
     "slide_type": "subslide"
    }
   },
   "source": [
    "We can also narrow down to specific months."
   ]
  },
  {
   "cell_type": "code",
   "execution_count": null,
   "metadata": {
    "execution": {
     "iopub.execute_input": "2020-11-03T15:04:06.447972Z",
     "iopub.status.busy": "2020-11-03T15:04:06.447848Z",
     "iopub.status.idle": "2020-11-03T15:04:06.466242Z",
     "shell.execute_reply": "2020-11-03T15:04:06.465635Z",
     "shell.execute_reply.started": "2020-11-03T15:04:06.447950Z"
    },
    "hide-output": false
   },
   "outputs": [],
   "source": [
    "# By month's name\n",
    "btc_usd.loc[\"August 2017\"]"
   ]
  },
  {
   "cell_type": "code",
   "execution_count": null,
   "metadata": {
    "execution": {
     "iopub.execute_input": "2020-11-03T15:04:06.617487Z",
     "iopub.status.busy": "2020-11-03T15:04:06.617199Z",
     "iopub.status.idle": "2020-11-03T15:04:06.631272Z",
     "shell.execute_reply": "2020-11-03T15:04:06.630612Z",
     "shell.execute_reply.started": "2020-11-03T15:04:06.617442Z"
    },
    "hide-output": false
   },
   "outputs": [],
   "source": [
    "# By month's number\n",
    "btc_usd.loc[\"08/2017\"]"
   ]
  },
  {
   "cell_type": "markdown",
   "metadata": {
    "slideshow": {
     "slide_type": "subslide"
    }
   },
   "source": [
    "Or even a day…"
   ]
  },
  {
   "cell_type": "code",
   "execution_count": null,
   "metadata": {
    "execution": {
     "iopub.execute_input": "2020-11-03T15:04:06.886742Z",
     "iopub.status.busy": "2020-11-03T15:04:06.886460Z",
     "iopub.status.idle": "2020-11-03T15:04:06.894147Z",
     "shell.execute_reply": "2020-11-03T15:04:06.893428Z",
     "shell.execute_reply.started": "2020-11-03T15:04:06.886699Z"
    },
    "hide-output": false
   },
   "outputs": [],
   "source": [
    "# By date name\n",
    "btc_usd.loc[\"August 1, 2020\"]"
   ]
  },
  {
   "cell_type": "code",
   "execution_count": null,
   "metadata": {
    "execution": {
     "iopub.execute_input": "2020-11-03T15:04:07.126029Z",
     "iopub.status.busy": "2020-11-03T15:04:07.125691Z",
     "iopub.status.idle": "2020-11-03T15:04:07.132160Z",
     "shell.execute_reply": "2020-11-03T15:04:07.131562Z",
     "shell.execute_reply.started": "2020-11-03T15:04:07.125985Z"
    },
    "hide-output": false
   },
   "outputs": [],
   "source": [
    "# By date number\n",
    "btc_usd.loc[\"08-01-2020\"]"
   ]
  },
  {
   "cell_type": "markdown",
   "metadata": {
    "slideshow": {
     "slide_type": "subslide"
    }
   },
   "source": [
    "**Question:** What can we pass as the `.loc` argument when we have a\n",
    "`DateTimeIndex`?"
   ]
  },
  {
   "cell_type": "markdown",
   "metadata": {
    "slideshow": {
     "slide_type": "fragment"
    }
   },
   "source": [
    "**Answer:** Anything that can be converted to a `datetime` using\n",
    "`pd.to_datetime`, *without* having to specify the format argument."
   ]
  },
  {
   "cell_type": "markdown",
   "metadata": {
    "slideshow": {
     "slide_type": ""
    }
   },
   "source": [
    "When we pass date-like objects to `.loc`, pandas returns *all* rows whose date in the index \"belong\" to that date or period"
   ]
  },
  {
   "cell_type": "markdown",
   "metadata": {
    "slideshow": {
     "slide_type": "subslide"
    }
   },
   "source": [
    "We can also use the range shorthand notation to give a start and end\n",
    "date for selection"
   ]
  },
  {
   "cell_type": "code",
   "execution_count": null,
   "metadata": {
    "execution": {
     "iopub.execute_input": "2020-11-03T15:04:08.228029Z",
     "iopub.status.busy": "2020-11-03T15:04:08.227713Z",
     "iopub.status.idle": "2020-11-03T15:04:08.246260Z",
     "shell.execute_reply": "2020-11-03T15:04:08.245574Z",
     "shell.execute_reply.started": "2020-11-03T15:04:08.227992Z"
    },
    "hide-output": false
   },
   "outputs": [],
   "source": [
    "btc_usd.loc[\"April 1, 2015\":\"April 10, 2015\"]"
   ]
  },
  {
   "cell_type": "markdown",
   "metadata": {
    "slideshow": {
     "slide_type": "subslide"
    }
   },
   "source": [
    "\n",
    "<a id='exercise-2'></a>\n",
    "**Exercise 3**\n",
    "\n",
    "For each item in the list, extract the specified data from `btc_usd`:\n",
    "\n",
    "- July 2017 through August 2017 (inclusive)  \n",
    "- April 25, 2015 to June 10, 2016  \n",
    "- October 31, 2017  "
   ]
  },
  {
   "cell_type": "markdown",
   "metadata": {
    "slideshow": {
     "slide_type": "slide"
    }
   },
   "source": [
    "## Accessing Date Properties\n",
    "\n",
    "\n",
    "We can access parts of a date: e.g. the month, minute, second, or hour \n",
    "\n",
    "When the date/time information is in the index, we can to `df.index.XX`\n",
    "where `XX` is replaced by `year`, `month`, or whatever we would\n",
    "like to access."
   ]
  },
  {
   "cell_type": "code",
   "execution_count": null,
   "metadata": {
    "execution": {
     "iopub.execute_input": "2020-11-03T15:04:09.111812Z",
     "iopub.status.busy": "2020-11-03T15:04:09.111537Z",
     "iopub.status.idle": "2020-11-03T15:04:09.118239Z",
     "shell.execute_reply": "2020-11-03T15:04:09.117419Z",
     "shell.execute_reply.started": "2020-11-03T15:04:09.111771Z"
    },
    "hide-output": false
   },
   "outputs": [],
   "source": [
    "btc_usd.index.year"
   ]
  },
  {
   "cell_type": "code",
   "execution_count": null,
   "metadata": {
    "execution": {
     "iopub.execute_input": "2020-11-03T15:04:09.391577Z",
     "iopub.status.busy": "2020-11-03T15:04:09.391316Z",
     "iopub.status.idle": "2020-11-03T15:04:09.397238Z",
     "shell.execute_reply": "2020-11-03T15:04:09.396515Z",
     "shell.execute_reply.started": "2020-11-03T15:04:09.391536Z"
    },
    "hide-output": false
   },
   "outputs": [],
   "source": [
    "btc_usd.index.day"
   ]
  },
  {
   "cell_type": "markdown",
   "metadata": {
    "slideshow": {
     "slide_type": "subslide"
    }
   },
   "source": [
    "We can also do the same if the date/time information is stored in a\n",
    "column, but we have to use a slightly different syntax."
   ]
  },
  {
   "cell_type": "markdown",
   "metadata": {
    "hide-output": false
   },
   "source": [
    "```python\n",
    "df[\"column_name\"].dt.XX\n",
    "```\n"
   ]
  },
  {
   "cell_type": "markdown",
   "metadata": {
    "slideshow": {
     "slide_type": "subslide"
    }
   },
   "source": [
    "Let's see it in action:"
   ]
  },
  {
   "cell_type": "code",
   "execution_count": null,
   "metadata": {
    "execution": {
     "iopub.execute_input": "2020-11-03T15:04:10.766966Z",
     "iopub.status.busy": "2020-11-03T15:04:10.766684Z",
     "iopub.status.idle": "2020-11-03T15:04:10.783280Z",
     "shell.execute_reply": "2020-11-03T15:04:10.782715Z",
     "shell.execute_reply.started": "2020-11-03T15:04:10.766925Z"
    },
    "hide-output": false
   },
   "outputs": [],
   "source": [
    "btc_date_column = btc_usd.reset_index()\n",
    "btc_date_column.head()"
   ]
  },
  {
   "cell_type": "code",
   "execution_count": null,
   "metadata": {
    "execution": {
     "iopub.execute_input": "2020-11-03T15:04:11.317843Z",
     "iopub.status.busy": "2020-11-03T15:04:11.317593Z",
     "iopub.status.idle": "2020-11-03T15:04:11.324494Z",
     "shell.execute_reply": "2020-11-03T15:04:11.323821Z",
     "shell.execute_reply.started": "2020-11-03T15:04:11.317808Z"
    },
    "hide-output": false
   },
   "outputs": [],
   "source": [
    "btc_date_column[\"Date\"].dt.year.head()"
   ]
  },
  {
   "cell_type": "code",
   "execution_count": null,
   "metadata": {
    "execution": {
     "iopub.execute_input": "2020-11-03T15:04:11.612597Z",
     "iopub.status.busy": "2020-11-03T15:04:11.612330Z",
     "iopub.status.idle": "2020-11-03T15:04:11.618288Z",
     "shell.execute_reply": "2020-11-03T15:04:11.617642Z",
     "shell.execute_reply.started": "2020-11-03T15:04:11.612555Z"
    },
    "hide-output": false
   },
   "outputs": [],
   "source": [
    "btc_date_column[\"Date\"].dt.month.head()"
   ]
  },
  {
   "cell_type": "markdown",
   "metadata": {
    "slideshow": {
     "slide_type": "slide"
    }
   },
   "source": [
    "## Leads and Lags: `df.shift`\n",
    "\n",
    "When doing time series analysis, we often want to compare data at one\n",
    "date against data at another date\n",
    "\n",
    "pandas can help us with this if we leverage the `shift` method\n",
    "\n",
    "Without any additional arguments, `shift()` will move all data\n",
    "*forward* one period, filling the first row with missing data"
   ]
  },
  {
   "cell_type": "code",
   "execution_count": null,
   "metadata": {
    "execution": {
     "iopub.execute_input": "2020-11-03T15:04:11.937883Z",
     "iopub.status.busy": "2020-11-03T15:04:11.937629Z",
     "iopub.status.idle": "2020-11-03T15:04:11.951140Z",
     "shell.execute_reply": "2020-11-03T15:04:11.950456Z",
     "shell.execute_reply.started": "2020-11-03T15:04:11.937841Z"
    },
    "hide-output": false,
    "slideshow": {
     "slide_type": "subslide"
    }
   },
   "outputs": [],
   "source": [
    "# so we can see the result of shift clearly\n",
    "btc_usd.head()"
   ]
  },
  {
   "cell_type": "code",
   "execution_count": null,
   "metadata": {
    "execution": {
     "iopub.execute_input": "2020-11-03T15:04:12.601740Z",
     "iopub.status.busy": "2020-11-03T15:04:12.601479Z",
     "iopub.status.idle": "2020-11-03T15:04:12.615234Z",
     "shell.execute_reply": "2020-11-03T15:04:12.614585Z",
     "shell.execute_reply.started": "2020-11-03T15:04:12.601700Z"
    },
    "hide-output": false
   },
   "outputs": [],
   "source": [
    "btc_usd.shift().head()"
   ]
  },
  {
   "cell_type": "markdown",
   "metadata": {
    "slideshow": {
     "slide_type": "subslide"
    }
   },
   "source": [
    "We can use this to compute the percent change from one day to the next\n",
    "\n",
    "(Quiz: Why does that work? Remember how pandas uses the index to *align*\n",
    "data.)"
   ]
  },
  {
   "cell_type": "code",
   "execution_count": null,
   "metadata": {
    "execution": {
     "iopub.execute_input": "2020-11-03T15:04:13.634746Z",
     "iopub.status.busy": "2020-11-03T15:04:13.634470Z",
     "iopub.status.idle": "2020-11-03T15:04:13.650366Z",
     "shell.execute_reply": "2020-11-03T15:04:13.649626Z",
     "shell.execute_reply.started": "2020-11-03T15:04:13.634704Z"
    },
    "hide-output": false
   },
   "outputs": [],
   "source": [
    "((btc_usd - btc_usd.shift()) / btc_usd.shift()).head()"
   ]
  },
  {
   "cell_type": "markdown",
   "metadata": {
    "slideshow": {
     "slide_type": "subslide"
    }
   },
   "source": [
    "Setting the first argument to `n` tells pandas to shift the data down\n",
    "`n` rows (apply an `n` period lag)."
   ]
  },
  {
   "cell_type": "code",
   "execution_count": null,
   "metadata": {
    "execution": {
     "iopub.execute_input": "2020-11-03T15:04:14.597307Z",
     "iopub.status.busy": "2020-11-03T15:04:14.597047Z",
     "iopub.status.idle": "2020-11-03T15:04:14.612143Z",
     "shell.execute_reply": "2020-11-03T15:04:14.611465Z",
     "shell.execute_reply.started": "2020-11-03T15:04:14.597265Z"
    },
    "hide-output": false
   },
   "outputs": [],
   "source": [
    "btc_usd.shift(3).head()"
   ]
  },
  {
   "cell_type": "markdown",
   "metadata": {
    "slideshow": {
     "slide_type": "subslide"
    }
   },
   "source": [
    "A negative value will shift the data *up* or apply a lead."
   ]
  },
  {
   "cell_type": "code",
   "execution_count": null,
   "metadata": {
    "execution": {
     "iopub.execute_input": "2020-11-03T15:04:15.193837Z",
     "iopub.status.busy": "2020-11-03T15:04:15.193578Z",
     "iopub.status.idle": "2020-11-03T15:04:15.208540Z",
     "shell.execute_reply": "2020-11-03T15:04:15.207953Z",
     "shell.execute_reply.started": "2020-11-03T15:04:15.193799Z"
    },
    "hide-output": false
   },
   "outputs": [],
   "source": [
    "btc_usd.shift(-2).head()"
   ]
  },
  {
   "cell_type": "code",
   "execution_count": null,
   "metadata": {
    "execution": {
     "iopub.execute_input": "2020-11-03T15:04:15.482609Z",
     "iopub.status.busy": "2020-11-03T15:04:15.482345Z",
     "iopub.status.idle": "2020-11-03T15:04:15.497365Z",
     "shell.execute_reply": "2020-11-03T15:04:15.496643Z",
     "shell.execute_reply.started": "2020-11-03T15:04:15.482567Z"
    },
    "hide-output": false
   },
   "outputs": [],
   "source": [
    "btc_usd.shift(-2).tail()"
   ]
  },
  {
   "cell_type": "markdown",
   "metadata": {
    "slideshow": {
     "slide_type": "subslide"
    }
   },
   "source": [
    "\n",
    "<a id='exercise-3'></a>\n",
    "**Exercise 4**\n",
    "\n",
    "Using the `shift` function, determine the week with the largest percent change\n",
    "in the volume of trades (the `\"Volume (BTC)\"` column).\n",
    "\n",
    "Repeat the analysis at the bi-weekly and monthly frequencies.\n",
    "\n",
    "Hint 1: We have data at a *daily* frequency and one week is `7` days.\n",
    "\n",
    "Hint 2: Approximate a month by 30 days."
   ]
  },
  {
   "cell_type": "code",
   "execution_count": null,
   "metadata": {
    "execution": {
     "iopub.execute_input": "2020-11-03T15:04:16.101157Z",
     "iopub.status.busy": "2020-11-03T15:04:16.100895Z",
     "iopub.status.idle": "2020-11-03T15:04:16.104426Z",
     "shell.execute_reply": "2020-11-03T15:04:16.103643Z",
     "shell.execute_reply.started": "2020-11-03T15:04:16.101116Z"
    },
    "hide-output": false
   },
   "outputs": [],
   "source": [
    "# your code here"
   ]
  },
  {
   "cell_type": "markdown",
   "metadata": {
    "slideshow": {
     "slide_type": "slide"
    }
   },
   "source": [
    "## Rolling Computations: `.rolling`\n",
    "\n",
    "pandas has facilities that enable easy computation of *rolling\n",
    "statistics*.\n",
    "\n",
    "These are best understood by example, so we will dive right in."
   ]
  },
  {
   "cell_type": "code",
   "execution_count": null,
   "metadata": {
    "execution": {
     "iopub.execute_input": "2020-11-03T15:04:17.140415Z",
     "iopub.status.busy": "2020-11-03T15:04:17.140155Z",
     "iopub.status.idle": "2020-11-03T15:04:17.154281Z",
     "shell.execute_reply": "2020-11-03T15:04:17.153595Z",
     "shell.execute_reply.started": "2020-11-03T15:04:17.140377Z"
    },
    "hide-output": false
   },
   "outputs": [],
   "source": [
    "# first take only the first 6 rows so we can easily see what is going on\n",
    "btc_small = btc_usd.head(6)\n",
    "btc_small"
   ]
  },
  {
   "cell_type": "markdown",
   "metadata": {
    "slideshow": {
     "slide_type": "subslide"
    }
   },
   "source": [
    "Below, we compute the 2 day moving average (for all columns)."
   ]
  },
  {
   "cell_type": "code",
   "execution_count": null,
   "metadata": {
    "execution": {
     "iopub.execute_input": "2020-11-03T15:04:18.083366Z",
     "iopub.status.busy": "2020-11-03T15:04:18.083046Z",
     "iopub.status.idle": "2020-11-03T15:04:18.100437Z",
     "shell.execute_reply": "2020-11-03T15:04:18.099748Z",
     "shell.execute_reply.started": "2020-11-03T15:04:18.083315Z"
    },
    "hide-output": false
   },
   "outputs": [],
   "source": [
    "btc_small.rolling(\"2d\").mean()"
   ]
  },
  {
   "cell_type": "markdown",
   "metadata": {},
   "source": [
    "To do this operation, pandas starts at each row (date) then looks\n",
    "*backwards* the specified number of periods (here 2 days) and then\n",
    "applies some aggregation function (`mean`) on all the data in that\n",
    "window.\n",
    "\n",
    "If pandas cannot look back the full length of the window (e.g. when\n",
    "working on the first row), it fills as much of the window as possible\n",
    "and then does the operation. Notice that the value at 2014-05-01 is\n",
    "the same in both DataFrames."
   ]
  },
  {
   "cell_type": "markdown",
   "metadata": {},
   "source": [
    "Below, we see a visual depiction of the rolling maximum on a 21 day\n",
    "window for the whole dataset."
   ]
  },
  {
   "cell_type": "code",
   "execution_count": null,
   "metadata": {
    "execution": {
     "iopub.execute_input": "2020-11-03T15:04:19.342720Z",
     "iopub.status.busy": "2020-11-03T15:04:19.342404Z",
     "iopub.status.idle": "2020-11-03T15:04:19.596998Z",
     "shell.execute_reply": "2020-11-03T15:04:19.596327Z",
     "shell.execute_reply.started": "2020-11-03T15:04:19.342678Z"
    },
    "hide-output": false,
    "slideshow": {
     "slide_type": "subslide"
    }
   },
   "outputs": [],
   "source": [
    "fig, ax = plt.subplots(figsize=(10, 4))\n",
    "btc_usd[\"Open\"].plot(ax=ax, linestyle=\"--\", alpha=0.8)\n",
    "btc_usd.rolling(\"21d\").max()[\"Open\"].plot(ax=ax, alpha=0.8, linewidth=3)\n",
    "ax.legend([\"Original\", \"21 day max\"])"
   ]
  },
  {
   "cell_type": "markdown",
   "metadata": {
    "slideshow": {
     "slide_type": "subslide"
    }
   },
   "source": [
    "We can also ask pandas to `apply` custom functions, similar to what we\n",
    "saw when studying GroupBy."
   ]
  },
  {
   "cell_type": "code",
   "execution_count": null,
   "metadata": {
    "execution": {
     "iopub.execute_input": "2020-11-03T15:04:19.715642Z",
     "iopub.status.busy": "2020-11-03T15:04:19.715377Z",
     "iopub.status.idle": "2020-11-03T15:04:19.718816Z",
     "shell.execute_reply": "2020-11-03T15:04:19.718284Z",
     "shell.execute_reply.started": "2020-11-03T15:04:19.715600Z"
    },
    "hide-output": false
   },
   "outputs": [],
   "source": [
    "def is_volatile(x):\n",
    "    \"Returns a 1 if the variance is greater than 1, otherwise returns 0\"\n",
    "    if x.var() > 1.0:\n",
    "        return 1.0\n",
    "    else:\n",
    "        return 0.0"
   ]
  },
  {
   "cell_type": "code",
   "execution_count": null,
   "metadata": {
    "execution": {
     "iopub.execute_input": "2020-11-03T15:04:20.231293Z",
     "iopub.status.busy": "2020-11-03T15:04:20.231028Z",
     "iopub.status.idle": "2020-11-03T15:04:20.259778Z",
     "shell.execute_reply": "2020-11-03T15:04:20.259092Z",
     "shell.execute_reply.started": "2020-11-03T15:04:20.231252Z"
    },
    "hide-output": false
   },
   "outputs": [],
   "source": [
    "btc_small.rolling(\"2d\").apply(is_volatile)"
   ]
  },
  {
   "cell_type": "markdown",
   "metadata": {
    "slideshow": {
     "slide_type": "subslide"
    }
   },
   "source": [
    "**Exercise 5**\n",
    "\n",
    "Imagine that you have access to the [TARDIS time machine](https://en.wikipedia.org/wiki/TARDIS)\n",
    "from “Dr. Who”.\n",
    "\n",
    "You are allowed to use the TARDIS only once, subject to the following\n",
    "conditions:\n",
    "\n",
    "- You may travel back to any day in the past.  \n",
    "- On that day, you may purchase one bitcoin *at market open*.  \n",
    "- You can then take the time machine 30 days into the future and sell your bitcoin *at market close*.  \n",
    "- Then you return to the present, pocketing the profits.  \n",
    "\n",
    "How would you pick the day?\n",
    "\n",
    "Think carefully about what you would need to compute to make the\n",
    "optimal choice. Try writing it out in the markdown cell below so you\n",
    "have a clear description of the *want* operator that we will apply after\n",
    "the exercise.\n",
    "\n",
    "(Note: **Don’t** look too far below, because in the next non-empty cell\n",
    "we have written out our answer.)"
   ]
  },
  {
   "cell_type": "markdown",
   "metadata": {},
   "source": [
    "To make this decision, we want to know …\n",
    "\n",
    "**Your answer here**"
   ]
  },
  {
   "cell_type": "markdown",
   "metadata": {
    "slideshow": {
     "slide_type": "subslide"
    }
   },
   "source": [
    "To make the optimal decision, we need to know the maximum\n",
    "difference between the close price at the end of the window and the open\n",
    "price at the start of the window."
   ]
  },
  {
   "cell_type": "markdown",
   "metadata": {
    "slideshow": {
     "slide_type": "subslide"
    }
   },
   "source": [
    "**Exercise 6**\n",
    "\n",
    "Do the following:\n",
    "\n",
    "1. Write a pandas function that implements your strategy.  \n",
    "1. Pass it to the `agg` method of `rolling_btc`.  \n",
    "1. Extract the `\"Open\"` column from the result.  \n",
    "1. Find the date associated with the maximum value in that column.  \n",
    "\n",
    "\n",
    "How much money did you make?"
   ]
  },
  {
   "cell_type": "code",
   "execution_count": null,
   "metadata": {
    "execution": {
     "iopub.execute_input": "2020-11-03T15:04:22.209004Z",
     "iopub.status.busy": "2020-11-03T15:04:22.208717Z",
     "iopub.status.idle": "2020-11-03T15:04:22.213121Z",
     "shell.execute_reply": "2020-11-03T15:04:22.212374Z",
     "shell.execute_reply.started": "2020-11-03T15:04:22.208960Z"
    },
    "hide-output": false
   },
   "outputs": [],
   "source": [
    "def daily_value(df):\n",
    "    # DELETE `pass` below and replace it with your code\n",
    "    pass\n",
    "\n",
    "rolling_btc = btc_usd.rolling(\"30d\")\n",
    "\n",
    "# do steps 2-4 here"
   ]
  },
  {
   "cell_type": "markdown",
   "metadata": {
    "slideshow": {
     "slide_type": "slide"
    }
   },
   "source": [
    "## Changing Frequencies: `.resample`\n",
    "\n",
    "In addition to computing rolling statistics, we can also change the\n",
    "frequency of the data.\n",
    "\n",
    "For example, instead of a monthly moving average, suppose that we wanted\n",
    "to compute the average *within* each calendar month.\n",
    "\n",
    "We will use the `resample` method to do this.\n",
    "\n",
    "Below are some examples."
   ]
  },
  {
   "cell_type": "code",
   "execution_count": null,
   "metadata": {
    "execution": {
     "iopub.execute_input": "2020-11-03T15:04:22.851543Z",
     "iopub.status.busy": "2020-11-03T15:04:22.851229Z",
     "iopub.status.idle": "2020-11-03T15:04:22.878342Z",
     "shell.execute_reply": "2020-11-03T15:04:22.877566Z",
     "shell.execute_reply.started": "2020-11-03T15:04:22.851496Z"
    },
    "hide-output": false,
    "slideshow": {
     "slide_type": "subslide"
    }
   },
   "outputs": [],
   "source": [
    "# business quarter\n",
    "btc_usd.resample(\"BQ\").mean()"
   ]
  },
  {
   "cell_type": "markdown",
   "metadata": {
    "slideshow": {
     "slide_type": "subslide"
    }
   },
   "source": [
    "Note that unlike with `rolling`, a single number is returned for\n",
    "each column for each quarter.\n",
    "\n",
    "The `resample` method will alter the frequency of the data and the\n",
    "number of rows in the result will be different from the number of rows\n",
    "in the input.\n",
    "\n",
    "On the other hand, with `rolling`, the size and frequency of the result\n",
    "are the same as the input."
   ]
  },
  {
   "cell_type": "markdown",
   "metadata": {
    "slideshow": {
     "slide_type": "subslide"
    }
   },
   "source": [
    "We can sample at other frequencies and aggregate with multiple aggregations\n",
    "function at once."
   ]
  },
  {
   "cell_type": "code",
   "execution_count": null,
   "metadata": {
    "execution": {
     "iopub.execute_input": "2020-11-03T15:04:23.800434Z",
     "iopub.status.busy": "2020-11-03T15:04:23.800127Z",
     "iopub.status.idle": "2020-11-03T15:04:23.899100Z",
     "shell.execute_reply": "2020-11-03T15:04:23.898419Z",
     "shell.execute_reply.started": "2020-11-03T15:04:23.800383Z"
    },
    "hide-output": false
   },
   "outputs": [],
   "source": [
    "# multiple functions at 2 start-of-quarter frequency\n",
    "btc_usd.resample(\"2BQS\").agg([\"min\", \"max\"])"
   ]
  },
  {
   "cell_type": "markdown",
   "metadata": {},
   "source": [
    "As with `groupby` and `rolling`, you can also provide custom\n",
    "functions to `.resample(...).agg` and `.resample(...).apply`"
   ]
  },
  {
   "cell_type": "markdown",
   "metadata": {
    "slideshow": {
     "slide_type": "subslide"
    }
   },
   "source": [
    "**Exercise 7**\n",
    "\n",
    "Now suppose you still have access to the TARDIS, but the conditions are\n",
    "slightly different.\n",
    "\n",
    "You may now:\n",
    "\n",
    "- Travel back to the *first day* of any month in the past.  \n",
    "- On that day, you may purchase one bitcoin *at market open*.  \n",
    "- You can then travel to any day *in that month* and sell the bitcoin *at market close*.  \n",
    "- Then return to the present, pocketing the profits.  \n",
    "\n",
    "To which month would you travel? On which day of that month would you return\n",
    "to sell the bitcoin?\n",
    "\n",
    "Determine what you would need to compute to make the\n",
    "optimal choice. Try writing it out in the markdown cell below so you\n",
    "have a clear description of the *want* operator that we will apply after\n",
    "the exercise.\n",
    "\n",
    "(Note: **Don’t** look too many cells below, because we have written out\n",
    "our answer.)"
   ]
  },
  {
   "cell_type": "markdown",
   "metadata": {
    "slideshow": {
     "slide_type": "subslide"
    }
   },
   "source": [
    "To make the optimal decision we need …\n",
    "\n",
    "**Your answer here**"
   ]
  },
  {
   "cell_type": "markdown",
   "metadata": {
    "slideshow": {
     "slide_type": "subslide"
    }
   },
   "source": [
    "To make the optimal decision we need to, for each month,\n",
    "compute the maximum value of the close price on any day minus the open\n",
    "price on the first day of the month."
   ]
  },
  {
   "cell_type": "markdown",
   "metadata": {
    "slideshow": {
     "slide_type": "subslide"
    }
   },
   "source": [
    "**Exercise 8**\n",
    "\n",
    "Do the following:\n",
    "\n",
    "1. Write a pandas function that implements your strategy.  \n",
    "1. Pass it to the `agg` method of `resampled_btc`.  \n",
    "1. Extract the `\"Open\"` column from the result.  \n",
    "1. Find the date associated with the maximum value in that column.  \n",
    "\n",
    "\n",
    "How much money did you make? Compare with your neighbor.\n",
    "\n",
    "Was this strategy more profitable than the previous one? By how much?"
   ]
  },
  {
   "cell_type": "code",
   "execution_count": null,
   "metadata": {
    "execution": {
     "iopub.execute_input": "2020-11-03T15:04:26.014554Z",
     "iopub.status.busy": "2020-11-03T15:04:26.014237Z",
     "iopub.status.idle": "2020-11-03T15:04:26.018787Z",
     "shell.execute_reply": "2020-11-03T15:04:26.018126Z",
     "shell.execute_reply.started": "2020-11-03T15:04:26.014504Z"
    },
    "hide-output": false
   },
   "outputs": [],
   "source": [
    "def monthly_value(df):\n",
    "    # DELETE `pass` below and replace it with your code\n",
    "    pass\n",
    "\n",
    "resampled_btc = btc_usd.resample(\"MS\")\n",
    "\n",
    "# Do steps 2-4 here"
   ]
  },
  {
   "cell_type": "markdown",
   "metadata": {
    "slideshow": {
     "slide_type": "subslide"
    }
   },
   "source": [
    "## Optional: API keys\n",
    "\n",
    "Recall above that we had the line of code:"
   ]
  },
  {
   "cell_type": "markdown",
   "metadata": {
    "hide-output": false
   },
   "source": [
    "```python\n",
    "quandl.ApiConfig.api_key = \"Dn6BtVoBhzuKTuyo6hbp\"\n",
    "```\n"
   ]
  },
  {
   "cell_type": "markdown",
   "metadata": {},
   "source": [
    "This line told the `quandl` library that when obtaining making requests for data, it should use the *API key* `Dn6BtVoBhzuKTuyo6hbp`.\n",
    "\n",
    "An API key is a sort of password that web services (like the Quandl API) require you to provide when you make requests.\n",
    "\n",
    "Using this password, we were able to make a request to Quandl to obtain data directly from them.\n",
    "\n",
    "The API key used here is one that we requested on behalf of this course.\n",
    "\n",
    "If you plan to use Quandl more extensively, you should obtain your own personal API key from [their website](https://docs.quandl.com/docs#section-authentication) and re-run the `quandl.ApiConfig.api_key...` line of code with your new API key on the right-hand side."
   ]
  }
 ],
 "metadata": {
  "celltoolbar": "Slideshow",
  "date": 1596755784.16782,
  "filename": "timeseries.rst",
  "jupytext": {
   "formats": "ipynb,md:myst,md"
  },
  "kernelspec": {
   "display_name": "Python 3 (ipykernel)",
   "language": "python",
   "name": "python3"
  },
  "language_info": {
   "codemirror_mode": {
    "name": "ipython",
    "version": 3
   },
   "file_extension": ".py",
   "mimetype": "text/x-python",
   "name": "python",
   "nbconvert_exporter": "python",
   "pygments_lexer": "ipython3",
   "version": "3.9.7"
  },
  "title": "Time series"
 },
 "nbformat": 4,
 "nbformat_minor": 4
}
