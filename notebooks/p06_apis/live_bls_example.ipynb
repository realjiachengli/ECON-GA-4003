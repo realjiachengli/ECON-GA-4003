{
 "cells": [
  {
   "cell_type": "markdown",
   "id": "279a149a",
   "metadata": {},
   "source": [
    "First thing we did was google \"BLS API\"\n",
    "\n",
    "This took us to https://www.bls.gov/developers/api_signature_v2.htm#multiple"
   ]
  },
  {
   "cell_type": "markdown",
   "id": "eea08156",
   "metadata": {},
   "source": [
    "**Import requests and find api url**"
   ]
  },
  {
   "cell_type": "code",
   "execution_count": null,
   "id": "c5ee1444",
   "metadata": {},
   "outputs": [],
   "source": [
    "import requests\n",
    "\n",
    "req_url = \"https://api.bls.gov/publicAPI/v2/timeseries/data/\""
   ]
  },
  {
   "cell_type": "code",
   "execution_count": null,
   "id": "928d97d4",
   "metadata": {},
   "outputs": [],
   "source": [
    "prefix = \"CE\"  # Prefix to National Employment, Hours, and Earnings\n",
    "seasonal = \"S\"  # seasonally adjusted\n",
    "supersector = \"00\"  # All non-farm\n",
    "industry = \"000000\"  # All non-farm\n",
    "data_code = \"01\"  # All employees (thousands)\n",
    "\n",
    "series_id = prefix+seasonal+supersector+industry+data_code"
   ]
  },
  {
   "cell_type": "markdown",
   "id": "13152268",
   "metadata": {},
   "source": [
    "**Single series**"
   ]
  },
  {
   "cell_type": "code",
   "execution_count": null,
   "id": "b2e3cb32",
   "metadata": {},
   "outputs": [],
   "source": [
    "req_url + series_id"
   ]
  },
  {
   "cell_type": "code",
   "execution_count": null,
   "id": "3cc1cfb9",
   "metadata": {},
   "outputs": [],
   "source": [
    "res_single = requests.get(req_url+series_id)"
   ]
  },
  {
   "cell_type": "code",
   "execution_count": null,
   "id": "07a51dca",
   "metadata": {},
   "outputs": [],
   "source": [
    "res_json = res_single.json()"
   ]
  },
  {
   "cell_type": "code",
   "execution_count": null,
   "id": "11257f66",
   "metadata": {},
   "outputs": [],
   "source": [
    "res_json.keys()"
   ]
  },
  {
   "cell_type": "code",
   "execution_count": null,
   "id": "ef78830d",
   "metadata": {},
   "outputs": [],
   "source": [
    "res_json[\"Results\"][\"series\"][0][\"data\"]"
   ]
  },
  {
   "cell_type": "code",
   "execution_count": null,
   "id": "3264b5a6",
   "metadata": {},
   "outputs": [],
   "source": [
    "import pandas as pd"
   ]
  },
  {
   "cell_type": "code",
   "execution_count": null,
   "id": "ccbf3271",
   "metadata": {},
   "outputs": [],
   "source": [
    "df = pd.DataFrame(res_json[\"Results\"][\"series\"][0][\"data\"])"
   ]
  },
  {
   "cell_type": "code",
   "execution_count": null,
   "id": "9cd33ad6",
   "metadata": {},
   "outputs": [],
   "source": [
    "df"
   ]
  },
  {
   "cell_type": "code",
   "execution_count": null,
   "id": "b86133df",
   "metadata": {},
   "outputs": [],
   "source": [
    "df.loc[:, [\"year\", \"period\", \"value\"]]"
   ]
  },
  {
   "cell_type": "code",
   "execution_count": null,
   "id": "2bb2624c",
   "metadata": {},
   "outputs": [],
   "source": [
    "payload = {\n",
    "    \"seriesid\":[\"LAUCN040010000000005\", \"LAUCN040010000000006\"],\n",
    "    \"startyear\": 2019,\n",
    "    \"endyear\": 2021,\n",
    "    \"registrationkey\": \"b391f2412b96418b8e76a0e659ba354a\"\n",
    "}"
   ]
  },
  {
   "cell_type": "code",
   "execution_count": null,
   "id": "6c41dd5c",
   "metadata": {},
   "outputs": [],
   "source": [
    "series_id"
   ]
  },
  {
   "cell_type": "code",
   "execution_count": null,
   "id": "d29d6392",
   "metadata": {},
   "outputs": [],
   "source": [
    "requests.post(req_url, json=payload)"
   ]
  },
  {
   "cell_type": "code",
   "execution_count": null,
   "id": "04395d72",
   "metadata": {},
   "outputs": [],
   "source": [
    "res_json = {\n",
    "  \"status\": \"REQUEST_SUCCEEDED\",\n",
    "  \"responseTime\": 16,\n",
    "  \"message\": [\n",
    "    \n",
    "  ],\n",
    "  \"Results\": [\n",
    "    {\n",
    "      \"series\": [\n",
    "        {\n",
    "          \"seriesID\": \"LAUCN040010000000005\",\n",
    "          \"data\": [\n",
    "            {\n",
    "              \"year\": \"2013\",\n",
    "              \"period\": \"M11\",\n",
    "              \"periodName\": \"November\",\n",
    "              \"value\": \"16393\",\n",
    "              \"footnotes\": [\n",
    "                {\n",
    "                  \"code\": \"P\",\n",
    "                  \"text\": \"Preliminary.\"\n",
    "                }\n",
    "              ]\n",
    "            },\n",
    "          ]\n",
    "        }\n",
    "      ]\n",
    "    }\n",
    "  ]\n",
    "}"
   ]
  },
  {
   "cell_type": "code",
   "execution_count": null,
   "id": "c990d092",
   "metadata": {},
   "outputs": [],
   "source": [
    "res_json.keys()"
   ]
  }
 ],
 "metadata": {
  "kernelspec": {
   "display_name": "Python 3",
   "language": "python",
   "name": "python3"
  },
  "language_info": {
   "codemirror_mode": {
    "name": "ipython",
    "version": 3
   },
   "file_extension": ".py",
   "mimetype": "text/x-python",
   "name": "python",
   "nbconvert_exporter": "python",
   "pygments_lexer": "ipython3",
   "version": "3.8.8"
  }
 },
 "nbformat": 4,
 "nbformat_minor": 5
}
